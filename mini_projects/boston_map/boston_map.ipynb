{
 "cells": [
  {
   "cell_type": "markdown",
   "metadata": {},
   "source": [
    "## Functionality\n",
    "Uses KNN to group pixels into 5-6 color groups (change the n_clusters argument)\n",
    "Saves each color to a separate layer\n",
    "\n",
    "## pre-reqs:\n",
    "1. Historical maps (e.g., https://collections.leventhalmap.org/search/commonwealth:q524n4440) has been saved to a local `images/` directory\n",
    "\n",
    "Inspired by Daniel Steiner: https://www.youtube.com/watch?v=UA63zaIXCZw\n"
   ]
  },
  {
   "cell_type": "code",
   "execution_count": null,
   "metadata": {},
   "outputs": [],
   "source": [
    "import glob\n",
    "\n",
    "%matplotlib\n",
    "import matplotlib.pyplot as plt\n",
    "from sklearn.cluster import KMeans\n",
    "from PIL import Image\n",
    "import numpy as np\n",
    "import os\n",
    "import cv2"
   ]
  },
  {
   "cell_type": "code",
   "execution_count": null,
   "metadata": {},
   "outputs": [],
   "source": [
    "def preprocess(image):\n",
    "    # Reshape the image to be a list of pixels\n",
    "    pixels = image.reshape(-1, 3)\n",
    "\n",
    "    # Perform K-means clustering\n",
    "    kmeans = KMeans(n_clusters=6, random_state=42).fit(pixels)\n",
    "    labels = kmeans.labels_\n",
    "    colors = kmeans.cluster_centers_.astype(int)\n",
    "\n",
    "    # Replace each pixel with the color of its cluster\n",
    "    new_image = colors[labels].reshape(image.shape)\n",
    "    \n",
    "    return new_image, colors"
   ]
  },
  {
   "cell_type": "code",
   "execution_count": null,
   "metadata": {},
   "outputs": [],
   "source": [
    "# Define a function to save each color as a separate image\n",
    "def save_color_layer(image_array, color, filename, color_name):\n",
    "    mask = np.all(image_array == color, axis=-1)\n",
    "    layer = np.zeros_like(image_array)\n",
    "    layer[mask] = color\n",
    "    layer_image = Image.fromarray(layer.astype(np.uint8))\n",
    "    layer_image.save(f\"color_layers/{filename}_{color_name}.png\")"
   ]
  },
  {
   "cell_type": "code",
   "execution_count": null,
   "metadata": {},
   "outputs": [],
   "source": [
    "images = glob.glob('images/*')\n",
    "# Create output directory if not exists\n",
    "output_dir = \"color_layers\"\n",
    "os.makedirs(output_dir, exist_ok=True)\n",
    "\n",
    "names = [\n",
    "    'Annotations', \n",
    "    'Historical Shoreline',\n",
    "    'Water_1995',\n",
    "    'Land Filled', \n",
    "    'Unchanged Shoreline', \n",
    "    ]\n",
    "\n",
    "for image_file in images:\n",
    "    # read\n",
    "    image_raw = cv2.imread(image_file)\n",
    "    image_raw = cv2.cvtColor(image_raw, cv2.COLOR_BGR2RGB)\n",
    "\n",
    "    # pre-process the images pixels\n",
    "    image, colors = preprocess(image_raw)\n",
    "    sorted_colors = colors[colors[:, 0].argsort()]\n",
    "\n",
    "    filename = image_file.split('/')[1].split('.')[0]\n",
    "    \n",
    "    # Process and save each color layer as a separate image\n",
    "    for color, name in zip(sorted_colors[:5], names):\n",
    "        save_color_layer(image, color=color, filename=filename, color_name=name)\n",
    "\n",
    "    print(\"Color layers have been saved as individual images.\")\n"
   ]
  }
 ],
 "metadata": {
  "language_info": {
   "name": "python"
  }
 },
 "nbformat": 4,
 "nbformat_minor": 2
}
