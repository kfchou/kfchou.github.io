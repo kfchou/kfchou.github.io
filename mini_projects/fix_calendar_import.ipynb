{
 "cells": [
  {
   "cell_type": "markdown",
   "metadata": {},
   "source": [
    "# History\n",
    "This is a script I made in response to accidentally importing a lot of calendar events form a .ics file to my personal calendar.\n",
    "There's no way I can go in and remove all the added events by hand, since I don't know how far back they go. I also don't remember which event belonged to me vs. the other person.\n",
    "\n",
    "This script calls the Google Calendar API and compares the the UID of the events found vs the UID in the .ics file, then removes the found events.\n",
    "\n",
    "# Pre-reqs:\n",
    "1. Install dependencies `pip install google-auth google-auth-oauthlib google-auth-httplib2 google-api-python-client`\n",
    "2. Create a service file and have that available\n",
    "3. Share calender persmission with the service file account\n",
    "4. Have the `.ics` file available"
   ]
  },
  {
   "cell_type": "code",
   "execution_count": null,
   "metadata": {},
   "outputs": [],
   "source": [
    "# The replace this with the calendar you want to fix\n",
    "calendar_id = 'fill_me_in' # e.g., 'primary'; could also be your personal email"
   ]
  },
  {
   "cell_type": "markdown",
   "metadata": {},
   "source": [
    "# Verify Access"
   ]
  },
  {
   "cell_type": "code",
   "execution_count": null,
   "metadata": {},
   "outputs": [],
   "source": [
    "from google.oauth2 import service_account\n",
    "from googleapiclient.discovery import build\n",
    "\n",
    "# Set up credentials and the API client\n",
    "SCOPES = ['https://www.googleapis.com/auth/calendar']\n",
    "SERVICE_ACCOUNT_FILE = 'path/to/your-service-account-file.json'\n",
    "credentials = service_account.Credentials.from_service_account_file(SERVICE_ACCOUNT_FILE, scopes=SCOPES)\n",
    "service = build('calendar', 'v3', credentials=credentials)\n",
    "\n",
    "# Try to list events (if this succeeds, the service account has the correct permissions)\n",
    "try:\n",
    "    events_result = service.events().list(calendarId=calendar_id).execute()\n",
    "    print(\"Service account has access to the calendar.\")\n",
    "    events = events_result.get('items', [])\n",
    "    for event in events:\n",
    "        print(event['summary'], event['start'].get('dateTime', event['start'].get('date')))\n",
    "except Exception as e:\n",
    "    print(f\"Failed to access calendar: {e}\")\n"
   ]
  },
  {
   "cell_type": "markdown",
   "metadata": {},
   "source": [
    "# Load .ics and extract UIDs"
   ]
  },
  {
   "cell_type": "code",
   "execution_count": null,
   "metadata": {},
   "outputs": [],
   "source": [
    "import pandas as pd\n",
    "\n",
    "# Initialize an empty dictionary to store the event data\n",
    "event_data = []\n",
    "\n",
    "# Open and read the .ics file\n",
    "with open('your_ics_file.ics', 'r') as file:\n",
    "    current_event = {}\n",
    "    for line in file:\n",
    "        line = line.strip()\n",
    "        \n",
    "        # Check if the line starts a new event\n",
    "        if line == \"BEGIN:VEVENT\":\n",
    "            current_event = {}\n",
    "        elif line == \"END:VEVENT\":\n",
    "            event_data.append(current_event)\n",
    "        else:\n",
    "            # Split the line into FIELD and VALUE at the first colon or semicolon\n",
    "            if ':' in line:\n",
    "                field, value = line.split(':', 1)\n",
    "            elif ';' in line:\n",
    "                field, value = line.split(';', 1)\n",
    "            else:\n",
    "                continue  # Skip lines that don't match the expected format\n",
    "            \n",
    "            current_event[field] = value\n",
    "\n",
    "# Convert the list of events into a DataFrame\n",
    "df = pd.DataFrame(event_data)"
   ]
  },
  {
   "cell_type": "code",
   "execution_count": null,
   "metadata": {},
   "outputs": [],
   "source": [
    "# items I want to delete\n",
    "df['UID']"
   ]
  },
  {
   "cell_type": "markdown",
   "metadata": {},
   "source": [
    "# Fetch your calendar events"
   ]
  },
  {
   "cell_type": "code",
   "execution_count": null,
   "metadata": {},
   "outputs": [],
   "source": [
    "from google.oauth2 import service_account\n",
    "from googleapiclient.discovery import build\n",
    "from datetime import datetime, timedelta\n",
    "\n",
    "# Set up credentials and the API client\n",
    "SCOPES = ['https://www.googleapis.com/auth/calendar']\n",
    "SERVICE_ACCOUNT_FILE = 'path/to/your-service-account-file.json'\n",
    "credentials = service_account.Credentials.from_service_account_file(SERVICE_ACCOUNT_FILE, scopes=SCOPES)\n",
    "service = build('calendar', 'v3', credentials=credentials)\n"
   ]
  },
  {
   "cell_type": "code",
   "execution_count": null,
   "metadata": {},
   "outputs": [],
   "source": [
    "# Define the time window\n",
    "now = datetime.utcnow()\n",
    "days_ago = 1050\n",
    "t_start = (now - timedelta(days=days_ago))\n",
    "t_end = t_start + timedelta(days=60)\n",
    "\n",
    "# Call the Google Calendar API to list events created in the last hour\n",
    "events_result = service.events().list(\n",
    "    calendarId=calendar_id,\n",
    "    timeMin=t_start.isoformat() + 'Z',\n",
    "    timeMax=t_end.isoformat() + 'Z',\n",
    "    singleEvents=True,\n",
    "    orderBy='startTime'\n",
    ").execute()\n",
    "events = events_result.get('items', [])\n",
    "print(f\"{len(events)} events found\")"
   ]
  },
  {
   "cell_type": "code",
   "execution_count": null,
   "metadata": {},
   "outputs": [],
   "source": [
    "unwanted_events = [event for event in events if df['UID'].str.contains(event['iCalUID']).any()]\n",
    "print(f\"{len(unwanted_events)} unwanted events found\")"
   ]
  },
  {
   "cell_type": "code",
   "execution_count": null,
   "metadata": {},
   "outputs": [],
   "source": [
    "# Delete each event found\n",
    "for event in unwanted_events:\n",
    "    print(f\"Deleting event: {event['summary']}\")\n",
    "    service.events().delete(calendarId=calendar_id, eventId=event['id']).execute()\n",
    "\n",
    "print(f\"Deleted {len(unwanted_events)} unwanted event(s)\")"
   ]
  },
  {
   "cell_type": "code",
   "execution_count": null,
   "metadata": {},
   "outputs": [],
   "source": []
  }
 ],
 "metadata": {
  "language_info": {
   "name": "python"
  }
 },
 "nbformat": 4,
 "nbformat_minor": 2
}
